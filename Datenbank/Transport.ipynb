{
 "cells": [
  {
   "cell_type": "code",
   "execution_count": 9,
   "metadata": {},
   "outputs": [
    {
     "data": {
      "text/plain": [
       "('https://glusfqycvwrucp9-db202202211424.adb.eu-zurich-1.oraclecloudapps.com/ords/sensor_datalake2/sens/any_sensor_data_entry/',\n",
       " '')"
      ]
     },
     "execution_count": 9,
     "metadata": {},
     "output_type": "execute_result"
    }
   ],
   "source": [
    "import requests\n",
    "import json\n",
    "\n",
    "f = open('test.json')\n",
    "data = json.load(f)\n",
    "\n",
    "\n",
    "handeingabe = {\"inserttime\":'null',\"device1humidity\":25,\"device1co2\":12, \"device1temp\":45,\"device2humidity\":45,\"device2co2\":45,\"device2temp\":'null',\"device3humidity\":'null',\"device3co2\":'null',\"device3temp\":'null',\"device3window1a\":'null',\"device3window2b\":'null',\"device3window3a\":'null',\"device3window4b\":'null',\"device3window5a\":'null',\"device1light\":'null',\"device2light\":'null',\"device3light\":'null'}\n",
    "\n",
    "r = requests.post('https://glusfqycvwrucp9-db202202211424.adb.eu-zurich-1.oraclecloudapps.com/ords/sensor_datalake2/sens/any_sensor_data_entry/',auth=('SENSOR_DATALAKE2', 'smarTclassrooM2Da'), data=data)\n",
    "r.url, r.text\n"
   ]
  },
  {
   "cell_type": "code",
   "execution_count": 10,
   "metadata": {},
   "outputs": [
    {
     "data": {
      "text/plain": [
       "{'INSERTTIME': '20.12.2013 17:45:12',\n",
       " 'DEVICE1HUMIDITY': '42',\n",
       " 'DEVICE1CO2': '1000',\n",
       " 'DEVICE1TEMP': '22',\n",
       " 'DEVICE2HUMIDITY': '44',\n",
       " 'DEVICE2CO2': '1023',\n",
       " 'DEVICE2TEMP': '22.4',\n",
       " 'DEVICE3HUMIDITY': '44.5',\n",
       " 'DEVICE3CO2': '998',\n",
       " 'DEVICE3TEMP': '23',\n",
       " 'DEVICE3WINDOW1A': '0',\n",
       " 'DEVICE3WINDOW2B': '1',\n",
       " 'DEVICE3WINDOW3A': '0',\n",
       " 'DEVICE3WINDOW4B': '1',\n",
       " 'DEVICE3WINDOW5A': '0',\n",
       " 'DEVICE1LIGHT': '2500',\n",
       " 'DEVICE2LIGHT': '2650',\n",
       " 'DEVICE3LIGHT': '1482'}"
      ]
     },
     "execution_count": 10,
     "metadata": {},
     "output_type": "execute_result"
    }
   ],
   "source": [
    "data"
   ]
  }
 ],
 "metadata": {
  "interpreter": {
   "hash": "780e223e49c598b4aa82d8318c6f1e6744c8b409488091a69e61e480bdf1c54b"
  },
  "kernelspec": {
   "display_name": "Python 3.8.8 ('base')",
   "language": "python",
   "name": "python3"
  },
  "language_info": {
   "codemirror_mode": {
    "name": "ipython",
    "version": 3
   },
   "file_extension": ".py",
   "mimetype": "text/x-python",
   "name": "python",
   "nbconvert_exporter": "python",
   "pygments_lexer": "ipython3",
   "version": "3.8.8"
  },
  "orig_nbformat": 4
 },
 "nbformat": 4,
 "nbformat_minor": 2
}
