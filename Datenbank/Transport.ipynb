{
 "cells": [
  {
   "cell_type": "code",
   "execution_count": 1,
   "metadata": {},
   "outputs": [
    {
     "data": {
      "text/plain": [
       "('https://glusfqycvwrucp9-db202202211424.adb.eu-zurich-1.oraclecloudapps.com/ords/sensor_datalake2/sens/any_sensor_data_entry/',\n",
       " '')"
      ]
     },
     "execution_count": 1,
     "metadata": {},
     "output_type": "execute_result"
    }
   ],
   "source": [
    "import requests\n",
    "import json\n",
    "\n",
    "f = open('test.json')\n",
    "data = json.load(f)\n",
    "\n",
    "\n",
    "handeingabe = {'CO2A1' : '1108', 'CO2B1': '34', 'LICHT1': '1'}\n",
    "\n",
    "r = requests.post('https://glusfqycvwrucp9-db202202211424.adb.eu-zurich-1.oraclecloudapps.com/ords/sensor_datalake2/sens/any_sensor_data_entry/',auth=('SENSOR_DATALAKE2', 'smarTclassrooM2Da'), data=data)\n",
    "r.url, r.text\n"
   ]
  },
  {
   "cell_type": "code",
   "execution_count": 4,
   "metadata": {},
   "outputs": [
    {
     "data": {
      "text/plain": [
       "{'ENTRY_ID': '1',\n",
       " 'INSERT_TIME': 'timestamp',\n",
       " 'CO2A1': '1000',\n",
       " 'CO2A2': '40%',\n",
       " 'CO2A3': '21',\n",
       " 'CO2B1': '1000',\n",
       " 'CO2B2': '40',\n",
       " 'CO2B3': '21',\n",
       " 'CO2C1': '1000',\n",
       " 'CO2C2': '40',\n",
       " 'CO2C3': '21',\n",
       " 'FENSTERA1': '0',\n",
       " 'FENSTERA2': '0',\n",
       " 'FENSTERA3': '0',\n",
       " 'FENSTERB1': '1',\n",
       " 'FENSTERB2': '1',\n",
       " 'LICHT1': '1500',\n",
       " 'LICHT2': 'test python'}"
      ]
     },
     "execution_count": 4,
     "metadata": {},
     "output_type": "execute_result"
    }
   ],
   "source": [
    "data"
   ]
  }
 ],
 "metadata": {
  "interpreter": {
   "hash": "780e223e49c598b4aa82d8318c6f1e6744c8b409488091a69e61e480bdf1c54b"
  },
  "kernelspec": {
   "display_name": "Python 3.8.8 ('base')",
   "language": "python",
   "name": "python3"
  },
  "language_info": {
   "codemirror_mode": {
    "name": "ipython",
    "version": 3
   },
   "file_extension": ".py",
   "mimetype": "text/x-python",
   "name": "python",
   "nbconvert_exporter": "python",
   "pygments_lexer": "ipython3",
   "version": "3.8.8"
  },
  "orig_nbformat": 4
 },
 "nbformat": 4,
 "nbformat_minor": 2
}
