{
 "cells": [
  {
   "cell_type": "code",
   "execution_count": 13,
   "metadata": {},
   "outputs": [
    {
     "data": {
      "text/plain": [
       "('https://glusfqycvwrucp9-db202202211424.adb.eu-zurich-1.oraclecloudapps.com/ords/sensor_datalake2/sens/any_sensor_data_entry/',\n",
       " '')"
      ]
     },
     "execution_count": 13,
     "metadata": {},
     "output_type": "execute_result"
    }
   ],
   "source": [
    "import requests\n",
    "import json\n",
    "\n",
    "f = open('test.json')\n",
    "data = json.load(f)\n",
    "\n",
    "\n",
    "handeingabe = {\n",
    "    \"inserttime\": \"30-MAR-22 10:20:30.45 PM\",\n",
    "    \"device1humidity\": \"42\",\n",
    "    \"device1co2\": \"1000\",\n",
    "    \"device1temp\": \"22\",\n",
    "    \"device2humidity\": \"44\",\n",
    "    \"device2co2\": \"1023\",\n",
    "    \"device2temp\": \"22.4\",\n",
    "    \"device3humidity\": \"44.5\",\n",
    "    \"device3co2\": \"998\",\n",
    "    \"device3temp\": \"23\",\n",
    "    \"device3window1a\": 0,\n",
    "    \"device3window2b\": 1,\n",
    "    \"device3window3a\": 0,\n",
    "    \"device3window4b\": 1,\n",
    "    \"device3window5a\": 0,\n",
    "    \"device1light\": \"2500\",\n",
    "    \"device2light\": \"2650\",\n",
    "    \"device3light\": \"1482\"\n",
    "}\n",
    "\n",
    "r = requests.post('https://glusfqycvwrucp9-db202202211424.adb.eu-zurich-1.oraclecloudapps.com/ords/sensor_datalake2/sens/any_sensor_data_entry/',auth=('SENSOR_DATALAKE2', 'smarTclassrooM2Da'), data=data)\n",
    "r.url, r.text\n"
   ]
  },
  {
   "cell_type": "code",
   "execution_count": 10,
   "metadata": {},
   "outputs": [
    {
     "data": {
      "text/plain": [
       "{'INSERTTIME': '20.12.2013 17:45:12',\n",
       " 'DEVICE1HUMIDITY': '42',\n",
       " 'DEVICE1CO2': '1000',\n",
       " 'DEVICE1TEMP': '22',\n",
       " 'DEVICE2HUMIDITY': '44',\n",
       " 'DEVICE2CO2': '1023',\n",
       " 'DEVICE2TEMP': '22.4',\n",
       " 'DEVICE3HUMIDITY': '44.5',\n",
       " 'DEVICE3CO2': '998',\n",
       " 'DEVICE3TEMP': '23',\n",
       " 'DEVICE3WINDOW1A': '0',\n",
       " 'DEVICE3WINDOW2B': '1',\n",
       " 'DEVICE3WINDOW3A': '0',\n",
       " 'DEVICE3WINDOW4B': '1',\n",
       " 'DEVICE3WINDOW5A': '0',\n",
       " 'DEVICE1LIGHT': '2500',\n",
       " 'DEVICE2LIGHT': '2650',\n",
       " 'DEVICE3LIGHT': '1482'}"
      ]
     },
     "execution_count": 10,
     "metadata": {},
     "output_type": "execute_result"
    }
   ],
   "source": [
    "data"
   ]
  }
 ],
 "metadata": {
  "interpreter": {
   "hash": "780e223e49c598b4aa82d8318c6f1e6744c8b409488091a69e61e480bdf1c54b"
  },
  "kernelspec": {
   "display_name": "Python 3.8.8 ('base')",
   "language": "python",
   "name": "python3"
  },
  "language_info": {
   "codemirror_mode": {
    "name": "ipython",
    "version": 3
   },
   "file_extension": ".py",
   "mimetype": "text/x-python",
   "name": "python",
   "nbconvert_exporter": "python",
   "pygments_lexer": "ipython3",
   "version": "3.8.8"
  },
  "orig_nbformat": 4
 },
 "nbformat": 4,
 "nbformat_minor": 2
}
